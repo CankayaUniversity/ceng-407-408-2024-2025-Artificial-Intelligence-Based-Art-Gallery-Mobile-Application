{
 "cells": [
  {
   "cell_type": "code",
   "execution_count": null,
   "id": "initial_id",
   "metadata": {
    "collapsed": true
   },
   "outputs": [],
   "source": [
    "# !pip install requests"
   ]
  },
  {
   "cell_type": "markdown",
   "id": "3ef6044e32d8ff6b",
   "metadata": {},
   "source": [
    "### Importing Required Libraries"
   ]
  },
  {
   "cell_type": "code",
   "execution_count": 1,
   "id": "569fdb76433695ca",
   "metadata": {
    "ExecuteTime": {
     "end_time": "2025-03-03T11:57:39.981130Z",
     "start_time": "2025-03-03T11:57:39.716352Z"
    }
   },
   "outputs": [],
   "source": [
    "import requests"
   ]
  },
  {
   "cell_type": "markdown",
   "id": "eebbe0e2bbdd4ab6",
   "metadata": {},
   "source": [
    "#### Defining the required API & Endpoint keys"
   ]
  },
  {
   "cell_type": "code",
   "execution_count": null,
   "id": "aebbd0c357e692ba",
   "metadata": {
    "ExecuteTime": {
     "end_time": "2025-03-03T11:57:41.030183Z",
     "start_time": "2025-03-03T11:57:41.024755Z"
    }
   },
   "outputs": [],
   "source": [
    "AZURE_VISION_ENDPOINT = \"AZURE_VISION_ENDPOINT\"\n",
    "AZURE_VISION_API_KEY = \"AZURE_VISION_API_KEY\"\n",
    "\n",
    "AZURE_OPENAI_GPT4_ENDPOINT = \"AZURE_OPENAI_GPT4_ENDPOINT\"\n",
    "AZURE_OPENAI_GPT4_API_KEY = \"AZURE_OPENAI_GPT4_API_KEY\""
   ]
  },
  {
   "cell_type": "markdown",
   "id": "820687e5bbda6b30",
   "metadata": {},
   "source": [
    "### Extract Caption from a Local Image (Azure Vision API)"
   ]
  },
  {
   "cell_type": "code",
   "execution_count": 3,
   "id": "66b7ea05b10207b8",
   "metadata": {
    "ExecuteTime": {
     "end_time": "2025-03-03T11:57:56.780705Z",
     "start_time": "2025-03-03T11:57:56.774531Z"
    }
   },
   "outputs": [],
   "source": [
    "def extract_caption_from_image(ApiKey, EndpointKey,image_path):\n",
    "    headers = {\n",
    "        \"Ocp-Apim-Subscription-Key\": ApiKey,\n",
    "        \"Content-Type\": \"application/octet-stream\"\n",
    "    }\n",
    "\n",
    "    with open(image_path, \"rb\") as image_file:\n",
    "        image_data = image_file.read()\n",
    "\n",
    "    response = requests.post(EndpointKey, headers=headers, data=image_data)\n",
    "    response_data = response.json()\n",
    "\n",
    "    if \"description\" in response_data and response_data[\"description\"][\"captions\"]:\n",
    "        return response_data[\"description\"][\"captions\"][0][\"text\"]\n",
    "    return \"No caption found.\""
   ]
  },
  {
   "cell_type": "code",
   "execution_count": 4,
   "id": "fa2eb626e716993b",
   "metadata": {
    "ExecuteTime": {
     "end_time": "2025-03-03T11:58:04.442353Z",
     "start_time": "2025-03-03T11:58:01.726057Z"
    }
   },
   "outputs": [
    {
     "name": "stdout",
     "output_type": "stream",
     "text": [
      "Extracted Caption: a painting of a man in a robe and a hat\n"
     ]
    }
   ],
   "source": [
    "# Example usage\n",
    "image_path = \"img_0.png\" # Image path will be different\n",
    "caption = extract_caption_from_image(ApiKey=AZURE_VISION_API_KEY, EndpointKey=AZURE_VISION_ENDPOINT, image_path=image_path)\n",
    "print(\"Extracted Caption:\", caption)"
   ]
  },
  {
   "cell_type": "markdown",
   "id": "474134b7566d8e54",
   "metadata": {},
   "source": [
    "### Caption Enhance Using GPT Model"
   ]
  },
  {
   "cell_type": "code",
   "execution_count": 5,
   "id": "5873f7c0d00a49d3",
   "metadata": {
    "ExecuteTime": {
     "end_time": "2025-03-03T11:59:38.503451Z",
     "start_time": "2025-03-03T11:59:38.497190Z"
    }
   },
   "outputs": [],
   "source": [
    "def enhance_caption(ApiKey, EndpointKey, image_caption, original_prompt):\n",
    "    headers = {\n",
    "        \"Content-Type\": \"application/json\",\n",
    "        \"api-key\": ApiKey\n",
    "    }\n",
    "\n",
    "    data = {\n",
    "        \"messages\": [\n",
    "            {\"role\": \"system\", \"content\": \"You are a helpful AI that improves image captions.\"},\n",
    "            {\"role\": \"user\", \"content\": f\"Improve this image caption using the context: \\n\\nOriginal Caption: {image_caption}\\nOriginal Prompt: {original_prompt}\\n\\nMake it more detailed and creative.\"}\n",
    "        ],\n",
    "        \"max_tokens\": 100\n",
    "    }\n",
    "\n",
    "    response = requests.post(EndpointKey, headers=headers, json=data)\n",
    "\n",
    "    if response.status_code == 200:\n",
    "        result = response.json()\n",
    "        return result[\"choices\"][0][\"message\"][\"content\"]\n",
    "    else:\n",
    "        return f\"Error: {response.text}\""
   ]
  },
  {
   "cell_type": "code",
   "execution_count": 6,
   "id": "ba290b4ec134d964",
   "metadata": {
    "ExecuteTime": {
     "end_time": "2025-03-03T11:59:45.294530Z",
     "start_time": "2025-03-03T11:59:41.621738Z"
    }
   },
   "outputs": [
    {
     "name": "stdout",
     "output_type": "stream",
     "text": [
      "Enhanced Caption: Enhanced Caption: An exquisite oil painting capturing King Henry VIII's stoic pose, adorned in a richly textured robe and a distinctive hat, reassuringly clutching a grand umbrella.\n"
     ]
    }
   ],
   "source": [
    "#Example Usage\n",
    "#Original prompt is generated by the user in create image phase\n",
    "original_prompt = \"painting of King Henry VIII carrying an umbrella\"\n",
    "enhance_caption = enhance_caption(ApiKey=AZURE_OPENAI_GPT4_API_KEY,\n",
    "                                  EndpointKey=AZURE_OPENAI_GPT4_ENDPOINT,\n",
    "                                  image_caption=caption,\n",
    "                                  original_prompt=original_prompt)\n",
    "print(\"Enhanced Caption:\", enhance_caption)"
   ]
  },
  {
   "cell_type": "markdown",
   "id": "f88c4c3b2f19086a",
   "metadata": {},
   "source": [
    "### Story Generation Based on GPT model"
   ]
  },
  {
   "cell_type": "code",
   "execution_count": 7,
   "id": "58f6d89d6c7a1445",
   "metadata": {
    "ExecuteTime": {
     "end_time": "2025-03-03T12:05:03.512199Z",
     "start_time": "2025-03-03T12:05:03.504468Z"
    }
   },
   "outputs": [],
   "source": [
    "def generate_story(ApiKey, EndpointKey,prompt: str, max_tokens=300, temperature=0.7, top_p=0.9):\n",
    "    \"\"\"\n",
    "    Generate a creative story using Azure OpenAI's GPT model.\n",
    "\n",
    "    Parameters:\n",
    "    - prompt (str): The story prompt provided by the user.\n",
    "    - max_tokens (int): Maximum length of the generated text.\n",
    "    - temperature (float): Creativity level (higher = more creative).\n",
    "    - top_p (float): Controls diversity of responses.\n",
    "\n",
    "    Returns:\n",
    "    - str: The generated story or an error message.\n",
    "    \"\"\"\n",
    "\n",
    "    headers = {\n",
    "        \"Content-Type\": \"application/json\",\n",
    "        \"api-key\": ApiKey\n",
    "    }\n",
    "\n",
    "    data = {\n",
    "        \"messages\": [\n",
    "            {\"role\": \"system\", \"content\": \"You are a creative story writer.\"},\n",
    "            {\"role\": \"user\", \"content\": prompt}\n",
    "        ],\n",
    "        \"max_tokens\": max_tokens,\n",
    "        \"temperature\": temperature,\n",
    "        \"top_p\": top_p,\n",
    "        \"n\": 1\n",
    "    }\n",
    "\n",
    "    response = requests.post(EndpointKey, headers=headers, json=data)\n",
    "\n",
    "    if response.status_code == 200:\n",
    "        result = response.json()\n",
    "        return result[\"choices\"][0][\"message\"][\"content\"]\n",
    "    else:\n",
    "        return f\"Error: {response.text}\""
   ]
  },
  {
   "cell_type": "code",
   "execution_count": 8,
   "id": "9e4d38ff208d03c4",
   "metadata": {
    "ExecuteTime": {
     "end_time": "2025-03-03T12:06:00.891552Z",
     "start_time": "2025-03-03T12:05:40.616479Z"
    }
   },
   "outputs": [
    {
     "name": "stdout",
     "output_type": "stream",
     "text": [
      "Title: The Umbrella of Power\n",
      "\n",
      "Once upon a time, in the kingdom of England, there lived a mighty and charismatic king named Henry VIII. He was known for his robust personality, his love for grandeur, and his distinctive hat that he wore as a symbol of his royal authority. However, there was something else that set him apart - an unusual artifact, a grand umbrella.\n",
      "\n",
      "One rainy afternoon, the palace's chief artist, Sir William, was commissioned to create a portrait of King Henry VIII. The king wanted a painting that would not just capture his physical likeness, but also his spirit - stoic, yet warm; commanding, yet approachable. Sir William was a talented man, known for his ability to breathe life into his paintings. He accepted the challenge and began his work.\n",
      "\n",
      "He painted the king in a richly textured robe, a deep shade of royal blue, with intricate gold embroidery. The king's hat, a distinctive piece made of the finest velvet, sat proudly on his head. But when it came to the grand umbrella, Sir William hesitated. He was unsure of how to capture its grandeur, the power it symbolized, and the reassurance it provided.\n",
      "\n",
      "The grand umbrella was no ordinary one. It was an heirloom passed down from generations, a symbol of the royal family's protection over the kingdom. It was believed that as long as the king held the umbrella, the kingdom would prosper, and its people would remain safe. \n",
      "\n",
      "King Henry VIII\n"
     ]
    }
   ],
   "source": [
    "# Example Usage\n",
    "story_prompt = f\"Write a creative story about {enhance_caption}.\"\n",
    "story = generate_story(ApiKey=AZURE_OPENAI_GPT4_API_KEY,\n",
    "                       EndpointKey=AZURE_OPENAI_GPT4_ENDPOINT,\n",
    "                       prompt=story_prompt)\n",
    "print(story)"
   ]
  },
  {
   "cell_type": "code",
   "execution_count": null,
   "id": "d47f9d23c0a99bd8",
   "metadata": {},
   "outputs": [],
   "source": []
  }
 ],
 "metadata": {
  "kernelspec": {
   "display_name": "Python 3",
   "language": "python",
   "name": "python3"
  },
  "language_info": {
   "codemirror_mode": {
    "name": "ipython",
    "version": 2
   },
   "file_extension": ".py",
   "mimetype": "text/x-python",
   "name": "python",
   "nbconvert_exporter": "python",
   "pygments_lexer": "ipython2",
   "version": "2.7.6"
  }
 },
 "nbformat": 4,
 "nbformat_minor": 5
}
